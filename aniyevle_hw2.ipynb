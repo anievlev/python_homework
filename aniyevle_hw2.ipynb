{
 "cells": [
  {
   "cell_type": "markdown",
   "metadata": {},
   "source": [
    "# Базовая часть"
   ]
  },
  {
   "cell_type": "markdown",
   "metadata": {},
   "source": [
    "Рассмотрим задание 2 из лекции. При анализе отзывов на работу техподдержки вы считали массив из отзывов (для простоты отзыва приведено всего два, но могло быть и больше):"
   ]
  },
  {
   "cell_type": "code",
   "execution_count": 2,
   "metadata": {
    "collapsed": true
   },
   "outputs": [],
   "source": [
    "reviews = [\"\"\"Телефон абонента: +7 916 000 00 01\n",
    "Время: 10:34\n",
    "Дата: 20.05.2017\n",
    "Оценка: 1\n",
    "Длительность разговора (мин.): 0:32\n",
    "Комментарий: Общение с сотрудником вашей техподдержки мне не понравилось. Раньше всегда отвечала девушка с приятным голосом, а сегодня какой-то мужчина. Совсем никуда не годится, примите меры!!!\"\"\",\n",
    "\"\"\"Телефон абонента: +7 916 000 00 02\n",
    "Время: 9:20\n",
    "Дата: 21.05.2017\n",
    "Оценка: 5\n",
    "Длительность разговора (мин.): 25:07\n",
    "Комментарий: С моей проблемой мне помогли, большое спасибо!\"\"\"]"
   ]
  },
  {
   "cell_type": "markdown",
   "metadata": {},
   "source": [
    "Сформируйте на основе этого массива словарь my_base, в котором по ключу в виде строки с телефоном абонента будет храниться другой словарь. Внутренний словарь по ключам в виде названий полей отзыва должен хранить значение полей (в виде строк). Например, код ниже должен выдать True:"
   ]
  },
  {
   "cell_type": "code",
   "execution_count": 3,
   "metadata": {
    "collapsed": false,
    "scrolled": true
   },
   "outputs": [
    {
     "name": "stdout",
     "output_type": "stream",
     "text": [
      "<type 'dict'>\n",
      "Оценка Время Комментарий Дата Длительность разговора (мин.)\n"
     ]
    }
   ],
   "source": [
    "j=len(reviews)\n",
    "my_base=dict()\n",
    "for i in xrange (0,j):\n",
    "    str1=reviews[i]\n",
    "    for line in str1.split('\\n'):\n",
    "        if line:\n",
    "            sl=line.split(': ')\n",
    "            if sl[0]=='Телефон абонента':\n",
    "                phone_num=sl[1]\n",
    "                my_base[phone_num]={}\n",
    "            else:\n",
    "                my_base[phone_num][sl[0]]=sl[1]   \n",
    "print type(my_base)\n",
    "print ' '.join(my_base['+7 916 000 00 02'].keys())"
   ]
  },
  {
   "cell_type": "code",
   "execution_count": 4,
   "metadata": {
    "collapsed": false
   },
   "outputs": [
    {
     "data": {
      "text/plain": [
       "True"
      ]
     },
     "execution_count": 4,
     "metadata": {},
     "output_type": "execute_result"
    }
   ],
   "source": [
    "my_base['+7 916 000 00 01']['Дата'] == '20.05.2017'"
   ]
  },
  {
   "cell_type": "markdown",
   "metadata": {},
   "source": [
    "Обратите внимание, что вам могут немного мешать пробелы после знаков \":\""
   ]
  },
  {
   "cell_type": "markdown",
   "metadata": {},
   "source": [
    "# Продвинутая часть"
   ]
  },
  {
   "cell_type": "markdown",
   "metadata": {},
   "source": [
    "Попробуйте выполнить предыдущее задание, но теперь обеспечив хранение полей из отзыва в словаре в тех типах данных, которые на ваш взгляд наиболее уместны. Подумайте, что делать с датой и временем. Возможно вам покажется полезным немного воспользоваться поисковиком или документацией к Python, а может быть вам хватит стандартных типов данных.\n",
    "Объясните свой выбор в комментариях к коду или markdown ячейках и продемонстрируйте, что поля имеют нужный тип."
   ]
  },
  {
   "cell_type": "markdown",
   "metadata": {},
   "source": [
    "Перевел что необходимо в дату\n",
    "На мой взгляд так проще в дальнейшем проводить разные операции "
   ]
  },
  {
   "cell_type": "code",
   "execution_count": 5,
   "metadata": {
    "collapsed": false
   },
   "outputs": [
    {
     "name": "stdout",
     "output_type": "stream",
     "text": [
      "<type 'dict'>\n",
      "<type 'datetime.datetime'>\n",
      "<type 'datetime.datetime'>\n",
      "<type 'int'>\n",
      "<type 'datetime.datetime'>\n",
      "<type 'str'>\n"
     ]
    }
   ],
   "source": [
    "import datetime\n",
    "j=len(reviews)\n",
    "my_base=dict()\n",
    "for i in xrange (0,j):\n",
    "    str1=reviews[i]\n",
    "    for line in str1.split('\\n'):\n",
    "        if line:\n",
    "            sl=line.split(': ')\n",
    "            if sl[0]=='Телефон абонента':\n",
    "                phone_num=sl[1]\n",
    "                my_base[phone_num]={}\n",
    "            elif sl[0]=='Время':\n",
    "                mytime = datetime.datetime.strptime(sl[1], \"%H:%M\")\n",
    "                my_base[phone_num][sl[0]]=mytime\n",
    "            elif sl[0]=='Дата':\n",
    "                mydate = datetime.datetime.strptime(sl[1], \"%d.%m.%Y\")\n",
    "                my_base[phone_num][sl[0]]=mydate               \n",
    "            elif sl[0]=='Оценка':\n",
    "                my_base[phone_num][sl[0]]=int(sl[1])                    \n",
    "            elif sl[0]=='Длительность разговора (мин.)':\n",
    "                mytime_dur = datetime.datetime.strptime(sl[1], \"%M:%S\")\n",
    "                my_base[phone_num][sl[0]]=mytime_dur  \n",
    "            elif sl[0]=='Комментарий':\n",
    "                my_base[phone_num][sl[0]]=str(sl[1])  \n",
    "\n",
    "print type(my_base['+7 916 000 00 02'])\n",
    "print type(my_base['+7 916 000 00 02']['Время'])\n",
    "print type(my_base['+7 916 000 00 02']['Дата'])\n",
    "print type(my_base['+7 916 000 00 02']['Оценка'])\n",
    "print type(my_base['+7 916 000 00 02']['Длительность разговора (мин.)'])\n",
    "print type(my_base['+7 916 000 00 02']['Комментарий'])\n"
   ]
  },
  {
   "cell_type": "markdown",
   "metadata": {},
   "source": [
    "# Сложная часть"
   ]
  },
  {
   "cell_type": "markdown",
   "metadata": {},
   "source": [
    "На лекции было рассказано про неизменяемые типы, в частности про tuple. Подумайте, можно ли \"сломать\" неизменяемость tuple? Как сделать tuple изменяемым? Можно ли будет его добавить в множество или использовать в качестве ключа в словаре?"
   ]
  },
  {
   "cell_type": "code",
   "execution_count": 8,
   "metadata": {
    "collapsed": false
   },
   "outputs": [
    {
     "name": "stdout",
     "output_type": "stream",
     "text": [
      "['h', 'e', 'l', 'l', 'o']\n",
      "<type 'list'>\n",
      "('h', 'e', 'l', 'l', 'o')\n",
      "<type 'tuple'>\n",
      "{('h', 'e', 'l', 'l', 'o'): 1}\n",
      "<type 'dict'>\n"
     ]
    }
   ],
   "source": [
    "test_row=list('hello')\n",
    "print test_row\n",
    "print type (test_row)\n",
    "test_row2=tuple(test_row)\n",
    "print test_row2\n",
    "print type (test_row2)\n",
    "test3=dict()\n",
    "test3[test_row2]=1\n",
    "print test3\n",
    "print type (test3)"
   ]
  }
 ],
 "metadata": {
  "anaconda-cloud": {},
  "kernelspec": {
   "display_name": "Python 2",
   "language": "python",
   "name": "python2"
  },
  "language_info": {
   "codemirror_mode": {
    "name": "ipython",
    "version": 2
   },
   "file_extension": ".py",
   "mimetype": "text/x-python",
   "name": "python",
   "nbconvert_exporter": "python",
   "pygments_lexer": "ipython2",
   "version": "2.7.13"
  }
 },
 "nbformat": 4,
 "nbformat_minor": 1
}
